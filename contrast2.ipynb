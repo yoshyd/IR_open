{
 "cells": [
  {
   "cell_type": "code",
   "execution_count": null,
   "id": "6cbe9373-3458-499a-a174-ccd0982216d2",
   "metadata": {},
   "outputs": [],
   "source": []
  }
 ],
 "metadata": {
  "kernelspec": {
   "display_name": "",
   "name": ""
  },
  "language_info": {
   "name": ""
  }
 },
 "nbformat": 4,
 "nbformat_minor": 5
}
